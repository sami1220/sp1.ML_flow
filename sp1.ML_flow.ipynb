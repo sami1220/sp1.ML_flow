{
 "cells": [
  {
   "cell_type": "markdown",
   "id": "892edf9f-3aee-4a34-b315-33386e5a940b",
   "metadata": {},
   "source": [
    "# Sprint1 機械学習フロー\n",
    "\n",
    "事前準備"
   ]
  },
  {
   "cell_type": "code",
   "execution_count": 1,
   "id": "ec37cc21-2424-48c8-91c2-026d3cb544b5",
   "metadata": {},
   "outputs": [],
   "source": [
    "import pandas as pd\n",
    "import numpy as np\n",
    "import seaborn as sns\n",
    "import matplotlib.pyplot as plt\n",
    "from sklearn.model_selection import train_test_split #データを分割する\n",
    "from sklearn import preprocessing\n",
    "import missingno as msno\n",
    "\n",
    "pd.set_option('display.max_rows', 100)\n",
    "pd.set_option('display.max_columns', 130)"
   ]
  },
  {
   "cell_type": "code",
   "execution_count": 2,
   "id": "aadffb26-8523-4838-92a7-c5e446b9f7dc",
   "metadata": {},
   "outputs": [
    {
     "name": "stdout",
     "output_type": "stream",
     "text": [
      "ndarrayへ変換直前のDataFrame\n"
     ]
    },
    {
     "data": {
      "text/html": [
       "<div>\n",
       "<style scoped>\n",
       "    .dataframe tbody tr th:only-of-type {\n",
       "        vertical-align: middle;\n",
       "    }\n",
       "\n",
       "    .dataframe tbody tr th {\n",
       "        vertical-align: top;\n",
       "    }\n",
       "\n",
       "    .dataframe thead th {\n",
       "        text-align: right;\n",
       "    }\n",
       "</style>\n",
       "<table border=\"1\" class=\"dataframe\">\n",
       "  <thead>\n",
       "    <tr style=\"text-align: right;\">\n",
       "      <th></th>\n",
       "      <th>CODE_GENDER</th>\n",
       "      <th>FLAG_OWN_CAR</th>\n",
       "      <th>AMT_CREDIT</th>\n",
       "      <th>AMT_ANNUITY</th>\n",
       "      <th>DAYS_BIRTH</th>\n",
       "      <th>TARGET</th>\n",
       "      <th>NEW_DAYS_BIRTH</th>\n",
       "    </tr>\n",
       "  </thead>\n",
       "  <tbody>\n",
       "    <tr>\n",
       "      <th>0</th>\n",
       "      <td>0</td>\n",
       "      <td>0.0</td>\n",
       "      <td>406597.5</td>\n",
       "      <td>24700.5</td>\n",
       "      <td>-9461</td>\n",
       "      <td>1</td>\n",
       "      <td>-25.920548</td>\n",
       "    </tr>\n",
       "    <tr>\n",
       "      <th>1</th>\n",
       "      <td>1</td>\n",
       "      <td>0.0</td>\n",
       "      <td>1293502.5</td>\n",
       "      <td>35698.5</td>\n",
       "      <td>-16765</td>\n",
       "      <td>0</td>\n",
       "      <td>-40.176612</td>\n",
       "    </tr>\n",
       "    <tr>\n",
       "      <th>2</th>\n",
       "      <td>0</td>\n",
       "      <td>1.0</td>\n",
       "      <td>135000.0</td>\n",
       "      <td>6750.0</td>\n",
       "      <td>-19046</td>\n",
       "      <td>0</td>\n",
       "      <td>-40.176612</td>\n",
       "    </tr>\n",
       "    <tr>\n",
       "      <th>3</th>\n",
       "      <td>1</td>\n",
       "      <td>0.0</td>\n",
       "      <td>312682.5</td>\n",
       "      <td>29686.5</td>\n",
       "      <td>-19005</td>\n",
       "      <td>0</td>\n",
       "      <td>-40.176612</td>\n",
       "    </tr>\n",
       "    <tr>\n",
       "      <th>4</th>\n",
       "      <td>0</td>\n",
       "      <td>0.0</td>\n",
       "      <td>513000.0</td>\n",
       "      <td>21865.5</td>\n",
       "      <td>-19932</td>\n",
       "      <td>0</td>\n",
       "      <td>-40.176612</td>\n",
       "    </tr>\n",
       "  </tbody>\n",
       "</table>\n",
       "</div>"
      ],
      "text/plain": [
       "   CODE_GENDER  FLAG_OWN_CAR  AMT_CREDIT  AMT_ANNUITY  DAYS_BIRTH  TARGET  \\\n",
       "0            0           0.0    406597.5      24700.5       -9461       1   \n",
       "1            1           0.0   1293502.5      35698.5      -16765       0   \n",
       "2            0           1.0    135000.0       6750.0      -19046       0   \n",
       "3            1           0.0    312682.5      29686.5      -19005       0   \n",
       "4            0           0.0    513000.0      21865.5      -19932       0   \n",
       "\n",
       "   NEW_DAYS_BIRTH  \n",
       "0      -25.920548  \n",
       "1      -40.176612  \n",
       "2      -40.176612  \n",
       "3      -40.176612  \n",
       "4      -40.176612  "
      ]
     },
     "metadata": {},
     "output_type": "display_data"
    },
    {
     "name": "stdout",
     "output_type": "stream",
     "text": [
      "[1 0 0 ... 0 0 0]\n"
     ]
    }
   ],
   "source": [
    "train_df = pd.read_csv(\"application_train.csv\") #訓練用データ\n",
    "train_df = train_df[0:15000]\n",
    "# print(train_df.shape)\n",
    "df = train_df\n",
    "\n",
    "new_df = df.loc[df['TARGET'] == 1, 'DAYS_BIRTH'] / 365\n",
    "new_df = new_df.rename('NEW_DAYS_BIRTH')\n",
    "\n",
    "\n",
    "# display(train_df.loc[:,[\"CODE_GENDER\",\"FLAG_OWN_CAR\",\"AMT_CREDIT\",\"AMT_ANNUITY\"]].head())\n",
    "\n",
    "# 1.CODE_GENDERを数値化する\n",
    "gender_mapping = {'M': 0, 'F': 1}\n",
    "train_df['CODE_GENDER'] = train_df['CODE_GENDER'].map(gender_mapping)\n",
    "\n",
    "# 2.\"FLAG_OWN_CAR\"を数値化する\n",
    "flag_mapping = {'N': float(0), 'Y': float(1)}\n",
    "train_df[\"FLAG_OWN_CAR\"] = train_df[\"FLAG_OWN_CAR\"].map(flag_mapping)\n",
    "\n",
    "# 3.train_dfから\"AMT_CREDIT\",\"AMT_ANNUITY\"を抜き取る\n",
    "x_df = train_df.loc[:,[\"CODE_GENDER\",\"FLAG_OWN_CAR\",\"AMT_CREDIT\",\"AMT_ANNUITY\",\"DAYS_BIRTH\"]]\n",
    "t_df = train_df.loc[:,[\"TARGET\"]]\n",
    "\n",
    "# 4.結合 説明変数と目的変数を絞ったdataframe\n",
    "train_df = pd.concat([x_df, t_df], axis=1)\n",
    "\n",
    "train_df = pd.concat([train_df, new_df], axis=1)\n",
    "\n",
    "# train_df.rename(0:\"NEW_DAY_BIRTH\")\n",
    "\n",
    "# print(train_df.head())\n",
    "\n",
    "\n",
    "# 5.欠損値を削除\n",
    "# train_df = train_df.dropna(how='any',axis=0) #欠損値ありの行 削除\n",
    "train_df = train_df.fillna(train_df.mean())\n",
    "\n",
    "print('ndarrayへ変換直前のDataFrame')\n",
    "display(train_df.head())\n",
    "\n",
    "# 6.ndarrayへ変換  性別・車を持っているか・ローンクレジット額・ローン年金 ４項目に絞る\n",
    "x = train_df.loc[:,[\"CODE_GENDER\",\"FLAG_OWN_CAR\",\"AMT_CREDIT\",\"AMT_ANNUITY\",\"DAYS_BIRTH\"]].values\n",
    "t = train_df[\"TARGET\"].values #to_numpyだとmethodになる（？）\n",
    "\n",
    "print(t)"
   ]
  },
  {
   "cell_type": "markdown",
   "id": "51df8211-e9da-44f7-acec-0bd347a9f93c",
   "metadata": {},
   "source": [
    "# 機械学習フロー\n",
    "\n",
    "1回目のSprintでは、機械学習の実践的な流れを抑えます。このSprintはWeek3,4の延長になり、\n",
    "\n",
    "引き続きKaggleの Home Credit Default Risk コンペティションを用います。\n",
    "\n",
    "特にここでは適切な **検証** を組み込むことを重視し、その上で前処理やモデルの選定を進めていきます。\n",
    "\n",
    "\n",
    "適切な検証を行い、テストデータに対して高い汎化性能を持つモデルを完成させましょう。\n",
    "\n",
    "\n",
    "## 【問題1】クロスバリデーション\n",
    "\n",
    "事前学習期間は検証データを分割しておき、それに対して指標値を計算することで検証を行っていました。\n",
    "\n",
    "しかし、分割の仕方により精度は変化します。実践的には クロスバリデーション を行います。\n",
    "\n",
    "\n",
    "具体的には分割を複数回行い、それぞれに対して学習と検証を行う方法です。複数回の分割を行う関数はscikit-learnにKFoldとして用意されています。\n",
    "\n",
    "\n",
    "sklearn.model_selection.KFold — scikit-learn 0.20.2 documentation\n",
    "\n"
   ]
  },
  {
   "cell_type": "code",
   "execution_count": 3,
   "id": "b4ad446d-4f8d-442a-adf9-4c2582b3bcd5",
   "metadata": {},
   "outputs": [
    {
     "name": "stdout",
     "output_type": "stream",
     "text": [
      "TRAIN:[ 5000  5001  5002 ... 14997 14998 14999] TEST:[   0    1    2 ... 4997 4998 4999]\n",
      "TRAIN:[    0     1     2 ... 14997 14998 14999] TEST:[5000 5001 5002 ... 9997 9998 9999]\n",
      "TRAIN:[   0    1    2 ... 9997 9998 9999] TEST:[10000 10001 10002 ... 14997 14998 14999]\n",
      "9225\n",
      "4601\n"
     ]
    }
   ],
   "source": [
    "from sklearn.model_selection import KFold\n",
    "\n",
    "# Kfoldで学習用、テスト用へ分割\n",
    "kf = KFold(n_splits=3) #4分割 データの分割数k．検定はここで指定した数値の回数おこなわれる(train75%:test25%)\n",
    "kf.get_n_splits(x, t)\n",
    "\n",
    "for train_index, test_index in kf.split(x, t):\n",
    "    print(f'TRAIN:{train_index} TEST:{test_index}')\n",
    "    x_train, x_test = x[train_index], x[test_index]\n",
    "    t_train, t_test = t[train_index], t[test_index]\n",
    "# x_train(7500, 4) x_test(2500, 4) t_train(7500,) t_test(2500,)\n",
    "print(sum(t_train==0))\n",
    "print(sum(t_test==0))"
   ]
  },
  {
   "cell_type": "markdown",
   "id": "bbf6eaf0-c75d-4d4e-b140-7ed3cb7794eb",
   "metadata": {},
   "source": [
    "## 【問題2】グリッドサーチ\n",
    "\n",
    "これまで分類器のパラメータは基本的にデフォルトの設定を使用していました。\n",
    "\n",
    "パラメータの詳細は今後のSprintで学んでいくことになりますが、パラメータは状況に応じて最適なものを選ぶ必要があります。\n",
    "\n",
    "パラメータを探索するために **グリッドサーチ** と呼ばれる総当たり的手法が一般的に利用されます。\n",
    "\n",
    "\n",
    "グリッドサーチをパイプラインの中に組み込みましょう。"
   ]
  },
  {
   "cell_type": "code",
   "execution_count": 4,
   "id": "943bfea4-ad6f-4546-b21f-e18b928f8b64",
   "metadata": {},
   "outputs": [
    {
     "name": "stdout",
     "output_type": "stream",
     "text": [
      "[ -25160.  -25122.  -25104. ... 2695500. 2925000. 2961000.]\n",
      "[0 1]\n",
      "(10000, 5)\n",
      "(10000,)\n",
      "SVC()\n",
      "SVMの正解率 : 0.9202\n",
      "Fitting 4 folds for each of 12 candidates, totalling 48 fits\n",
      "[CV] END ..................................C=0.1, gamma=0.01; total time=   3.8s\n",
      "[CV] END ..................................C=0.1, gamma=0.01; total time=   3.8s\n",
      "[CV] END ..................................C=0.1, gamma=0.01; total time=   3.8s\n",
      "[CV] END ..................................C=0.1, gamma=0.01; total time=   3.8s\n",
      "[CV] END .................................C=0.1, gamma=0.505; total time=   4.5s\n",
      "[CV] END .................................C=0.1, gamma=0.505; total time=   4.3s\n",
      "[CV] END .................................C=0.1, gamma=0.505; total time=   4.3s\n",
      "[CV] END .................................C=0.1, gamma=0.505; total time=   4.3s\n",
      "[CV] END ...................................C=0.1, gamma=1.0; total time=   4.3s\n",
      "[CV] END ...................................C=0.1, gamma=1.0; total time=   4.3s\n",
      "[CV] END ...................................C=0.1, gamma=1.0; total time=   4.3s\n",
      "[CV] END ...................................C=0.1, gamma=1.0; total time=   4.3s\n",
      "[CV] END ...................................C=10, gamma=0.01; total time=   5.9s\n",
      "[CV] END ...................................C=10, gamma=0.01; total time=   5.5s\n",
      "[CV] END ...................................C=10, gamma=0.01; total time=   5.5s\n",
      "[CV] END ...................................C=10, gamma=0.01; total time=   5.5s\n",
      "[CV] END ..................................C=10, gamma=0.505; total time=   5.5s\n",
      "[CV] END ..................................C=10, gamma=0.505; total time=   5.6s\n",
      "[CV] END ..................................C=10, gamma=0.505; total time=   5.6s\n",
      "[CV] END ..................................C=10, gamma=0.505; total time=   5.7s\n",
      "[CV] END ....................................C=10, gamma=1.0; total time=   5.5s\n",
      "[CV] END ....................................C=10, gamma=1.0; total time=   5.6s\n",
      "[CV] END ....................................C=10, gamma=1.0; total time=   5.6s\n",
      "[CV] END ....................................C=10, gamma=1.0; total time=   5.6s\n",
      "[CV] END ..................................C=100, gamma=0.01; total time=   5.9s\n",
      "[CV] END ..................................C=100, gamma=0.01; total time=   6.1s\n",
      "[CV] END ..................................C=100, gamma=0.01; total time=   5.6s\n",
      "[CV] END ..................................C=100, gamma=0.01; total time=   5.6s\n",
      "[CV] END .................................C=100, gamma=0.505; total time=   5.5s\n",
      "[CV] END .................................C=100, gamma=0.505; total time=   5.6s\n",
      "[CV] END .................................C=100, gamma=0.505; total time=   5.6s\n",
      "[CV] END .................................C=100, gamma=0.505; total time=   5.6s\n",
      "[CV] END ...................................C=100, gamma=1.0; total time=   5.5s\n",
      "[CV] END ...................................C=100, gamma=1.0; total time=   5.6s\n",
      "[CV] END ...................................C=100, gamma=1.0; total time=   5.6s\n",
      "[CV] END ...................................C=100, gamma=1.0; total time=   5.6s\n",
      "[CV] END .................................C=1000, gamma=0.01; total time=   5.8s\n",
      "[CV] END .................................C=1000, gamma=0.01; total time=   5.5s\n",
      "[CV] END .................................C=1000, gamma=0.01; total time=   5.8s\n",
      "[CV] END .................................C=1000, gamma=0.01; total time=   5.6s\n",
      "[CV] END ................................C=1000, gamma=0.505; total time=   5.5s\n",
      "[CV] END ................................C=1000, gamma=0.505; total time=   5.6s\n",
      "[CV] END ................................C=1000, gamma=0.505; total time=   5.6s\n",
      "[CV] END ................................C=1000, gamma=0.505; total time=   5.6s\n",
      "[CV] END ..................................C=1000, gamma=1.0; total time=   5.8s\n",
      "[CV] END ..................................C=1000, gamma=1.0; total time=   5.6s\n",
      "[CV] END ..................................C=1000, gamma=1.0; total time=   5.6s\n",
      "[CV] END ..................................C=1000, gamma=1.0; total time=   5.6s\n",
      "グリッドサーチの結果 bestscore : [0 0 0 ... 0 0 0]\n",
      "正解率0.9202\n",
      "グリッドサーチの結果 : ベストなパラメーター : SVC(C=0.1, gamma=0.01)\n"
     ]
    }
   ],
   "source": [
    "from sklearn import svm\n",
    "from sklearn.svm import SVC\n",
    "from sklearn.model_selection import GridSearchCV\n",
    "from sklearn.model_selection import cross_val_score\n",
    "from sklearn.pipeline import make_pipeline\n",
    "from sklearn.preprocessing import StandardScaler\n",
    "\n",
    "print(np.unique(x_train))\n",
    "print(np.unique(t_train))\n",
    "print(x_train.shape)\n",
    "print(t_train.shape)\n",
    "\n",
    "# サポートベクターマシン\n",
    "clf = svm.SVC()\n",
    "print(clf)\n",
    "clf.fit(x_train, t_train)\n",
    "clf_pre = clf.predict(x_test)\n",
    "print(f'SVMの正解率 : {clf.score(x_test, t_test)}')\n",
    "\n",
    "parameter = {\n",
    "      'C':[0.1, 10, 100, 1000],\n",
    "      'gamma':np.linspace(0.01, 1.0, 3)\n",
    "}\n",
    "\n",
    "# # グリッドサーチCVのインスタンス作成\n",
    "grid_seach = GridSearchCV(clf, parameter, cv=4, verbose=2)\n",
    "grid_seach.fit(x_train, t_train) #学習\n",
    "\n",
    "best = grid_seach.best_estimator_\n",
    "best_pred = best.predict(x_test)\n",
    "print(f'グリッドサーチの結果 bestscore : {best_pred}') #ベスト内容\n",
    "print(f'正解率{grid_seach.score(x_test, t_test)}') # SVC(C=0.1, gamma=0.01)\n",
    "print(f'グリッドサーチの結果 : ベストなパラメーター : {best}')"
   ]
  },
  {
   "cell_type": "code",
   "execution_count": 8,
   "id": "0e9e725e-1fff-4178-b289-088ceae3cbf9",
   "metadata": {},
   "outputs": [
    {
     "name": "stdout",
     "output_type": "stream",
     "text": [
      "SVC(C=0.1, gamma=0.01)\n",
      "SVMの正解率 : 0.9202\n"
     ]
    }
   ],
   "source": [
    "# 当初      SVMの正解率 : 0.921\n",
    "# グリッドサーチ 正解率0.9216\n",
    "\n",
    "\n",
    "# グリッドサーチでベストなパラメータに変えた\n",
    "clf = svm.SVC(C=0.1, gamma=0.01)\n",
    "print(clf)\n",
    "clf.fit(x_train, t_train)\n",
    "clf_pre_best = clf.predict(x_test)\n",
    "print(f'SVMの正解率 : {clf.score(x_test, t_test)}')\n",
    "# あまり変わらず小数点4くらいで変化"
   ]
  },
  {
   "cell_type": "markdown",
   "id": "f27b09d8-f6b4-4e66-bcdd-1585c13f7776",
   "metadata": {},
   "source": [
    "## 【問題3】Kernelからの調査\n",
    "\n",
    "KaggleのKernelから自身にはなかったアイデアを見つけ出して、列挙してください。\n",
    "\n",
    "そして、効果があると考えられるものを検証してください。\n",
    "\n"
   ]
  },
  {
   "cell_type": "code",
   "execution_count": 6,
   "id": "447e6425-5ee8-476f-a841-460b62acf187",
   "metadata": {},
   "outputs": [
    {
     "data": {
      "image/png": "[encoded data removed]",
      "text/plain": [
       "<Figure size 720x576 with 1 Axes>"
      ]
     },
     "metadata": {
      "needs_background": "light"
     },
     "output_type": "display_data"
    }
   ],
   "source": [
    "# 年齢に関する考察は自分でも行なっていたが、Kaggle上位者の考察は色々と深い分析があった\n",
    "# ・下のグラフは縦軸が密度、横軸が年齢\n",
    "# 赤い線はターゲット1を表しており、20~30代に大きく傾斜があり密度が濃いことがわかる。\n",
    "# また、年齢が高くなるにあたりその傾斜が低くなっており、40代以上はターゲット０の方が割合がおおい。\n",
    "# 年齢別のローン返済の失敗について調査するのもあり\n",
    "\n",
    "plt.figure(figsize = (10, 8))\n",
    "\n",
    "sns.kdeplot(df.loc[df['TARGET'] == 0, 'DAYS_BIRTH'] / 365, label ='target == 0')\n",
    "\n",
    "# KDE plot of loans which were not repaid on time\n",
    "sns.kdeplot(df.loc[df['TARGET'] == 1, 'DAYS_BIRTH'] / 365, label ='target == 1', color=\"red\")\n",
    "plt.xlabel('Age (years)'); plt.ylabel('Density'); plt.title('Distribution of Ages');\n",
    "plt.show()"
   ]
  },
  {
   "cell_type": "markdown",
   "id": "e7ea7eb0-ce3d-44c6-a72c-d7f1a93e077c",
   "metadata": {},
   "source": [
    "## 【問題4】高い汎化性能のモデル\n",
    "\n",
    "\n",
    "これまで学んだことを用いながら汎化性能の高いモデルを作成してください。\n",
    "\n",
    "今は全体の流れを掴むことを重視し、Sprintの時間内に結果を出すということも意識しましょう。"
   ]
  },
  {
   "cell_type": "code",
   "execution_count": 10,
   "id": "89e88e06-83a7-4a4f-8fda-32e12b99733b",
   "metadata": {},
   "outputs": [
    {
     "name": "stdout",
     "output_type": "stream",
     "text": [
      "<class 'pandas.core.series.Series'>\n"
     ]
    },
    {
     "data": {
      "image/png": "[encoded data removed]",
      "text/plain": [
       "<Figure size 432x288 with 1 Axes>"
      ]
     },
     "metadata": {
      "needs_background": "light"
     },
     "output_type": "display_data"
    },
    {
     "name": "stdout",
     "output_type": "stream",
     "text": [
      "auc : 0.5\n"
     ]
    }
   ],
   "source": [
    "n = df.loc[df['TARGET'] == 1, 'DAYS_BIRTH'] / 365\n",
    "print(type(n))\n",
    "\n",
    "# 変更前のモデル\n",
    "from sklearn.metrics import roc_curve, auc, accuracy_score\n",
    "roc = roc_curve(t_test, clf_pre_best)\n",
    "fpr, tpr, thresholds = roc_curve(t_test, clf_pre)\n",
    "\n",
    "plt.plot(fpr, tpr, marker='o')\n",
    "plt.xlabel('FPR: False positive rate')\n",
    "plt.ylabel('TPR: True positive rate')\n",
    "plt.grid()\n",
    "plt.show()\n",
    "print(f'auc : {auc(fpr, tpr)}')"
   ]
  },
  {
   "cell_type": "code",
   "execution_count": null,
   "id": "9b28ff9a-7f92-4ee1-97a7-d676cacec138",
   "metadata": {},
   "outputs": [],
   "source": [
    "# 前回はランダムフォレスト、今回はSVMを実装したがあまり数値は上がっていない"
   ]
  },
  {
   "cell_type": "code",
   "execution_count": null,
   "id": "3bc022e0-0e5f-41d1-86b0-60b70eca85ab",
   "metadata": {},
   "outputs": [],
   "source": []
  }
 ],
 "metadata": {
  "kernelspec": {
   "display_name": "Python 3",
   "language": "python",
   "name": "python3"
  },
  "language_info": {
   "codemirror_mode": {
    "name": "ipython",
    "version": 3
   },
   "file_extension": ".py",
   "mimetype": "text/x-python",
   "name": "python",
   "nbconvert_exporter": "python",
   "pygments_lexer": "ipython3",
   "version": "3.8.8"
  }
 },
 "nbformat": 4,
 "nbformat_minor": 5
}
